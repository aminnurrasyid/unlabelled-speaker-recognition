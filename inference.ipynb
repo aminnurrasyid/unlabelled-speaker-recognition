{
 "cells": [
  {
   "cell_type": "markdown",
   "id": "6ff6894c",
   "metadata": {},
   "source": [
    "Configurations"
   ]
  },
  {
   "cell_type": "code",
   "execution_count": 4,
   "id": "a7210aef",
   "metadata": {},
   "outputs": [],
   "source": [
    "SAMPLE_RATE = 16000\n",
    "DURATION = 3\n",
    "AUDIO_DIR_PATH = \"./data/test\" \n",
    "HOP_LENGTH = 512\n",
    "LABELS = 3 # my data only consist of 3 different speaker, change to 200 here"
   ]
  },
  {
   "cell_type": "markdown",
   "id": "954b36cf",
   "metadata": {},
   "source": [
    "Load audio and load it into raw waveforms segments"
   ]
  },
  {
   "cell_type": "code",
   "execution_count": 5,
   "id": "37127b95",
   "metadata": {},
   "outputs": [],
   "source": [
    "import os\n",
    "import librosa\n",
    "\n",
    "testsegments = []\n",
    "for audio_file_name in os.listdir(AUDIO_DIR_PATH):    \n",
    "    waveform, sr = librosa.load(os.path.join(AUDIO_DIR_PATH, audio_file_name), sr=SAMPLE_RATE)\n",
    "    total_samples = DURATION * SAMPLE_RATE \n",
    "    for i in range(0, len(waveform) - total_samples + 1, total_samples):\n",
    "        testsegments.append(waveform[i:i + total_samples]) # last incomplete segment will be excluded"
   ]
  },
  {
   "cell_type": "code",
   "execution_count": 6,
   "id": "ac64c1ed",
   "metadata": {},
   "outputs": [
    {
     "data": {
      "text/plain": [
       "2"
      ]
     },
     "execution_count": 6,
     "metadata": {},
     "output_type": "execute_result"
    }
   ],
   "source": [
    "len(testsegments)"
   ]
  },
  {
   "cell_type": "code",
   "execution_count": 7,
   "id": "bacf6b12",
   "metadata": {},
   "outputs": [],
   "source": [
    "import random\n",
    "\n",
    "segment = testsegments[random.randint(0, len(testsegments) - 1)]"
   ]
  },
  {
   "cell_type": "markdown",
   "id": "bcb8e002",
   "metadata": {},
   "source": [
    "Phonetic and Acoustic Features"
   ]
  },
  {
   "cell_type": "code",
   "execution_count": 8,
   "id": "eadfb808",
   "metadata": {},
   "outputs": [
    {
     "name": "stderr",
     "output_type": "stream",
     "text": [
      "c:\\Users\\amin\\anaconda3\\envs\\speechrec_unlabelled\\Lib\\site-packages\\tqdm\\auto.py:21: TqdmWarning: IProgress not found. Please update jupyter and ipywidgets. See https://ipywidgets.readthedocs.io/en/stable/user_install.html\n",
      "  from .autonotebook import tqdm as notebook_tqdm\n"
     ]
    },
    {
     "data": {
      "text/plain": [
       "ASTForAudioClassification(\n",
       "  (audio_spectrogram_transformer): ASTModel(\n",
       "    (embeddings): ASTEmbeddings(\n",
       "      (patch_embeddings): ASTPatchEmbeddings(\n",
       "        (projection): Conv2d(1, 768, kernel_size=(16, 16), stride=(10, 10))\n",
       "      )\n",
       "      (dropout): Dropout(p=0.0, inplace=False)\n",
       "    )\n",
       "    (encoder): ASTEncoder(\n",
       "      (layer): ModuleList(\n",
       "        (0-11): 12 x ASTLayer(\n",
       "          (attention): ASTAttention(\n",
       "            (attention): ASTSelfAttention(\n",
       "              (query): Linear(in_features=768, out_features=768, bias=True)\n",
       "              (key): Linear(in_features=768, out_features=768, bias=True)\n",
       "              (value): Linear(in_features=768, out_features=768, bias=True)\n",
       "            )\n",
       "            (output): ASTSelfOutput(\n",
       "              (dense): Linear(in_features=768, out_features=768, bias=True)\n",
       "              (dropout): Dropout(p=0.0, inplace=False)\n",
       "            )\n",
       "          )\n",
       "          (intermediate): ASTIntermediate(\n",
       "            (dense): Linear(in_features=768, out_features=3072, bias=True)\n",
       "            (intermediate_act_fn): GELUActivation()\n",
       "          )\n",
       "          (output): ASTOutput(\n",
       "            (dense): Linear(in_features=3072, out_features=768, bias=True)\n",
       "            (dropout): Dropout(p=0.0, inplace=False)\n",
       "          )\n",
       "          (layernorm_before): LayerNorm((768,), eps=1e-12, elementwise_affine=True)\n",
       "          (layernorm_after): LayerNorm((768,), eps=1e-12, elementwise_affine=True)\n",
       "        )\n",
       "      )\n",
       "    )\n",
       "    (layernorm): LayerNorm((768,), eps=1e-12, elementwise_affine=True)\n",
       "  )\n",
       "  (classifier): ASTMLPHead(\n",
       "    (layernorm): LayerNorm((768,), eps=1e-12, elementwise_affine=True)\n",
       "    (dense): Linear(in_features=768, out_features=527, bias=True)\n",
       "  )\n",
       ")"
      ]
     },
     "execution_count": 8,
     "metadata": {},
     "output_type": "execute_result"
    }
   ],
   "source": [
    "from transformers import ASTFeatureExtractor, ASTForAudioClassification\n",
    "\n",
    "feature_extractor = ASTFeatureExtractor.from_pretrained(\n",
    "    \"MIT/ast-finetuned-audioset-10-10-0.4593\",\n",
    "    cache_dir=\"./model/ast\"\n",
    ")\n",
    "\n",
    "ast_model = ASTForAudioClassification.from_pretrained(\n",
    "    \"MIT/ast-finetuned-audioset-10-10-0.4593\",\n",
    "    cache_dir=\"./model/ast\"\n",
    ")\n",
    "\n",
    "ast_model.eval()"
   ]
  },
  {
   "cell_type": "code",
   "execution_count": 9,
   "id": "9ebf35bc",
   "metadata": {},
   "outputs": [],
   "source": [
    "import torch\n",
    "\n",
    "def get_phonetic_acoustic_vector(segment):\n",
    "    # AST expects NumPy array (1D waveform)\n",
    "    if isinstance(segment, torch.Tensor):\n",
    "        segment = segment.numpy()\n",
    "\n",
    "    # Use feature extractor to prepare inputs\n",
    "    inputs = feature_extractor(segment, sampling_rate=16000, return_tensors=\"pt\")\n",
    "\n",
    "    # Get embedding from AST model\n",
    "    with torch.no_grad():\n",
    "        outputs = ast_model(**inputs)\n",
    "        ast_embedding = outputs.logits.squeeze(0)  # shape: [D_ast]\n",
    "\n",
    "    return ast_embedding"
   ]
  },
  {
   "cell_type": "markdown",
   "id": "0883aec5",
   "metadata": {},
   "source": [
    "Prosodic Features"
   ]
  },
  {
   "cell_type": "code",
   "execution_count": 10,
   "id": "56880b55",
   "metadata": {},
   "outputs": [],
   "source": [
    "import numpy as np\n",
    "import torch.nn as nn\n",
    "\n",
    "class ProsodyRNN(nn.Module):\n",
    "    def __init__(self, input_dim=2, hidden_dim=64, output_dim=128):\n",
    "        super().__init__()\n",
    "        self.rnn = nn.GRU(input_dim, hidden_dim, batch_first=True, bidirectional=True)\n",
    "        self.proj = nn.Linear(hidden_dim * 2, output_dim)\n",
    "\n",
    "    def forward(self, x):\n",
    "        _, h = self.rnn(x)  # h shape: [2, B, H]\n",
    "        h = torch.cat([h[0], h[1]], dim=1)  # [B, 2H]\n",
    "        return self.proj(h)  # [B, output_dim]\n",
    "\n",
    "def get_prosodic_features(segment): \n",
    "    # Each row = 1 time frame\n",
    "    # hop_duration_ms = (512/ 16000) * 1000 = 32ms\n",
    "    # Each column = 1 feature (pitch, energy)\n",
    "\n",
    "    pitch = librosa.yin(segment, fmin=50, fmax=300, sr=sr, hop_length=HOP_LENGTH)\n",
    "    energy = librosa.feature.rms(y=segment, hop_length=HOP_LENGTH)[0]\n",
    "\n",
    "    # Frame-align pitch & energy (zero-pad to same length)\n",
    "    length = min(len(pitch), len(energy))\n",
    "    pitch = pitch[:length]\n",
    "    energy = energy[:length]\n",
    "\n",
    "    # Combine frame-wise\n",
    "    features = np.stack([pitch, energy], axis=1)  # [T x 2]\n",
    "\n",
    "    return features\n",
    "\n",
    "def get_prosodic_vector(segment): \n",
    "    features = get_prosodic_features(segment)  # shape: [T, 2]\n",
    "\n",
    "    # Convert to tensor and add batch dimension\n",
    "    x = torch.tensor(features, dtype=torch.float32).unsqueeze(0)  # shape: [1, T, 2]\n",
    "\n",
    "    # Load model\n",
    "    prosody_model = ProsodyRNN()\n",
    "    prosody_model.load_state_dict(torch.load('./model/weights/prosody_rnn.pt'))\n",
    "    prosody_model.eval()\n",
    "\n",
    "    with torch.no_grad():\n",
    "        prosody_vector = prosody_model(x)  # shape: [1, D]\n",
    "    \n",
    "    return prosody_vector.squeeze(0).numpy()  # shape: [D]"
   ]
  },
  {
   "cell_type": "markdown",
   "id": "ff15e832",
   "metadata": {},
   "source": [
    "Feature Extraction"
   ]
  },
  {
   "cell_type": "code",
   "execution_count": 11,
   "id": "e16e9ac0",
   "metadata": {},
   "outputs": [],
   "source": [
    "def l2_normalize(v):\n",
    "    return v / np.linalg.norm(v)\n",
    "\n",
    "# phonetic and acoustic features \n",
    "phonetic_acoustic_vector = get_phonetic_acoustic_vector(segment)\n",
    "\n",
    "# prosodic features\n",
    "prosody_vector = get_prosodic_vector(segment)\n",
    "\n",
    "# Normalize both vectors\n",
    "p_vec = l2_normalize(prosody_vector)  # [D1]\n",
    "a_vec = l2_normalize(phonetic_acoustic_vector.numpy())   # [D2]\n",
    "    \n",
    "# Concatenate\n",
    "query_vector = np.concatenate([p_vec, a_vec])            # shape: [D1 + D2]"
   ]
  },
  {
   "cell_type": "markdown",
   "id": "88d42ea3",
   "metadata": {},
   "source": [
    "Classification Model"
   ]
  },
  {
   "cell_type": "code",
   "execution_count": 12,
   "id": "c5bdf0e7",
   "metadata": {},
   "outputs": [],
   "source": [
    "import joblib\n",
    "\n",
    "clf = joblib.load('./model/classifier.pkl')\n",
    "\n",
    "predicted_cluster = clf.predict([query_vector])[0]"
   ]
  },
  {
   "cell_type": "code",
   "execution_count": 13,
   "id": "d84df9ef",
   "metadata": {},
   "outputs": [
    {
     "data": {
      "text/plain": [
       "np.int32(0)"
      ]
     },
     "execution_count": 13,
     "metadata": {},
     "output_type": "execute_result"
    }
   ],
   "source": [
    "predicted_cluster"
   ]
  }
 ],
 "metadata": {
  "kernelspec": {
   "display_name": "speechrec_unlabelled",
   "language": "python",
   "name": "python3"
  },
  "language_info": {
   "codemirror_mode": {
    "name": "ipython",
    "version": 3
   },
   "file_extension": ".py",
   "mimetype": "text/x-python",
   "name": "python",
   "nbconvert_exporter": "python",
   "pygments_lexer": "ipython3",
   "version": "3.11.13"
  }
 },
 "nbformat": 4,
 "nbformat_minor": 5
}
