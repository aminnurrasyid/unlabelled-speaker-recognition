{
 "cells": [
  {
   "cell_type": "markdown",
   "id": "6ff6894c",
   "metadata": {},
   "source": [
    "Configurations"
   ]
  },
  {
   "cell_type": "code",
   "execution_count": null,
   "id": "a7210aef",
   "metadata": {},
   "outputs": [],
   "source": [
    "SAMPLE_RATE = 16000\n",
    "DURATION = 3\n",
    "AUDIO_DIR_PATH = \"./data/train\" \n",
    "HOP_LENGTH = 512\n",
    "LABELS = 3 # my data only consist of 3 different speaker, change to 200 here"
   ]
  },
  {
   "cell_type": "markdown",
   "id": "954b36cf",
   "metadata": {},
   "source": [
    "Load audio and load it into raw waveforms segments"
   ]
  },
  {
   "cell_type": "code",
   "execution_count": 34,
   "id": "37127b95",
   "metadata": {},
   "outputs": [],
   "source": [
    "import os\n",
    "import librosa\n",
    "\n",
    "segments = []\n",
    "for audio_file_name in os.listdir(AUDIO_DIR_PATH):    \n",
    "    waveform, sr = librosa.load(os.path.join(AUDIO_DIR_PATH, audio_file_name), sr=SAMPLE_RATE)\n",
    "    total_samples = DURATION * SAMPLE_RATE \n",
    "    for i in range(0, len(waveform) - total_samples + 1, total_samples):\n",
    "        segments.append(waveform[i:i + total_samples]) # last incomplete segment will be excluded"
   ]
  },
  {
   "cell_type": "code",
   "execution_count": 35,
   "id": "ac64c1ed",
   "metadata": {},
   "outputs": [
    {
     "data": {
      "text/plain": [
       "7"
      ]
     },
     "execution_count": 35,
     "metadata": {},
     "output_type": "execute_result"
    }
   ],
   "source": [
    "len(segments)"
   ]
  },
  {
   "cell_type": "markdown",
   "id": "0883aec5",
   "metadata": {},
   "source": [
    "Prosodic Features"
   ]
  },
  {
   "cell_type": "code",
   "execution_count": 36,
   "id": "56880b55",
   "metadata": {},
   "outputs": [],
   "source": [
    "import numpy as np\n",
    "\n",
    "def get_prosodic_features(segment): \n",
    "    # Each row = 1 time frame\n",
    "    # hop_duration_ms = (512/ 16000) * 1000 = 32ms\n",
    "    # Each column = 1 feature (pitch, energy)\n",
    "\n",
    "    pitch = librosa.yin(segment, fmin=50, fmax=300, sr=sr, hop_length=HOP_LENGTH)\n",
    "    energy = librosa.feature.rms(y=segment, hop_length=HOP_LENGTH)[0]\n",
    "\n",
    "    # Frame-align pitch & energy (zero-pad to same length)\n",
    "    length = min(len(pitch), len(energy))\n",
    "    pitch = pitch[:length]\n",
    "    energy = energy[:length]\n",
    "\n",
    "    # Combine frame-wise\n",
    "    features = np.stack([pitch, energy], axis=1)  # [T x 2]\n",
    "\n",
    "    return features"
   ]
  },
  {
   "cell_type": "code",
   "execution_count": 37,
   "id": "bdb3e3d8",
   "metadata": {},
   "outputs": [],
   "source": [
    "import random\n",
    "from scipy.ndimage import zoom\n",
    "\n",
    "def augment_features(features, method):\n",
    "    if method == 'mask':\n",
    "        # Random time masking\n",
    "        features = features.copy()\n",
    "        T = len(features)\n",
    "        start = random.randint(0, T // 2)\n",
    "        end = min(T, start + random.randint(5, 15))\n",
    "        features[start:end] = 0\n",
    "    elif method == 'noise':\n",
    "        # simulates natural variability in how people speak or in how features are extracted — just like:\n",
    "        # Slight jitter in pitch\n",
    "        # Minor fluctuations in energy\n",
    "        # Recording imperfections or mic sensitivity\n",
    "        # Subtle variation in speaking effort or environment\n",
    "        features += np.random.normal(0, 0.1, features.shape)\n",
    "    elif method == 'warp':\n",
    "        # Time-warp (stretch or shrink)\n",
    "        scale = random.uniform(0.8, 1.2)\n",
    "        features = zoom(features, [scale, 1], order=1)\n",
    "    return features"
   ]
  },
  {
   "cell_type": "markdown",
   "id": "ff15e832",
   "metadata": {},
   "source": [
    "Model Loading"
   ]
  },
  {
   "cell_type": "code",
   "execution_count": 38,
   "id": "5d311b7e",
   "metadata": {},
   "outputs": [],
   "source": [
    "import torch\n",
    "import torch.nn as nn\n",
    "\n",
    "class ProsodyRNN(nn.Module):\n",
    "    def __init__(self, input_dim=2, hidden_dim=64, output_dim=128):\n",
    "        super().__init__()\n",
    "        self.rnn = nn.GRU(input_dim, hidden_dim, batch_first=True, bidirectional=True)\n",
    "        self.proj = nn.Linear(hidden_dim * 2, output_dim)\n",
    "\n",
    "    def forward(self, x):\n",
    "        _, h = self.rnn(x)  # h shape: [2, B, H]\n",
    "        h = torch.cat([h[0], h[1]], dim=1)  # [B, 2H]\n",
    "        return self.proj(h)  # [B, output_dim]"
   ]
  },
  {
   "cell_type": "code",
   "execution_count": 39,
   "id": "c1b7f90e",
   "metadata": {},
   "outputs": [],
   "source": [
    "import torch.nn.functional as F\n",
    "\n",
    "def contrastive_loss(z1, z2, temperature=0.1):\n",
    "    z1 = F.normalize(z1, dim=1)\n",
    "    z2 = F.normalize(z2, dim=1)\n",
    "    logits = z1 @ z2.T / temperature\n",
    "    labels = torch.arange(len(z1)).to(z1.device)\n",
    "    return F.cross_entropy(logits, labels)"
   ]
  },
  {
   "cell_type": "code",
   "execution_count": null,
   "id": "e16e9ac0",
   "metadata": {},
   "outputs": [],
   "source": [
    "model = ProsodyRNN()\n",
    "optimizer = torch.optim.Adam(model.parameters(), lr=1e-3)\n",
    "\n",
    "for epoch in range(20):\n",
    "    for segment in segments:\n",
    "        f1 = get_prosodic_features(segment)\n",
    "        f2 = augment_features(f1, method='noise')\n",
    "\n",
    "        x1 = torch.tensor(f1, dtype=torch.float32).unsqueeze(0)\n",
    "        x2 = torch.tensor(f2, dtype=torch.float32).unsqueeze(0)\n",
    "\n",
    "        z1 = model(x1)\n",
    "        z2 = model(x2)\n",
    "\n",
    "        loss = contrastive_loss(z1, z2)\n",
    "\n",
    "        optimizer.zero_grad()\n",
    "        loss.backward()\n",
    "        optimizer.step()\n",
    "\n",
    "    print(f\"Epoch {epoch+1} Loss: {loss.item():.4f}\")"
   ]
  },
  {
   "cell_type": "code",
   "execution_count": null,
   "id": "316d1f3f",
   "metadata": {},
   "outputs": [],
   "source": [
    "torch.save(model.state_dict(), './model/weights/prosody_rnn.pt')"
   ]
  }
 ],
 "metadata": {
  "kernelspec": {
   "display_name": "speechrec_unlabelled",
   "language": "python",
   "name": "python3"
  },
  "language_info": {
   "codemirror_mode": {
    "name": "ipython",
    "version": 3
   },
   "file_extension": ".py",
   "mimetype": "text/x-python",
   "name": "python",
   "nbconvert_exporter": "python",
   "pygments_lexer": "ipython3",
   "version": "3.11.13"
  }
 },
 "nbformat": 4,
 "nbformat_minor": 5
}
